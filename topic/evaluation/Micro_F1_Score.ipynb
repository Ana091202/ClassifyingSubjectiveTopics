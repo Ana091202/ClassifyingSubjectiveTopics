{
 "cells": [
  {
   "cell_type": "markdown",
   "id": "cd83d2fb",
   "metadata": {},
   "source": [
    "# F1 Score Computation for Multi-label Classification\n",
    "This notebook computes the F1 scores for a multi-label classification problem using data from CSV files."
   ]
  },
  {
   "cell_type": "markdown",
   "source": [
    "### Import libraries"
   ],
   "metadata": {
    "collapsed": false
   }
  },
  {
   "cell_type": "code",
   "execution_count": 1,
   "id": "109c9e20",
   "metadata": {},
   "outputs": [],
   "source": [
    "import pandas as pd\n",
    "from sklearn.metrics import f1_score\n",
    "from sklearn.metrics import recall_score\n",
    "from sklearn.metrics import precision_score"
   ]
  },
  {
   "cell_type": "markdown",
   "id": "b3c22a58",
   "metadata": {},
   "source": [
    "### Load Data"
   ]
  },
  {
   "cell_type": "code",
   "execution_count": 2,
   "id": "983f2817",
   "metadata": {},
   "outputs": [
    {
     "data": {
      "text/plain": "(         id  question_id  participant_id  \\\n 0  2_117958            2          117958   \n 1  2_117111            2          117111   \n 2    5_6411            5            6411   \n 3  1_117904            1          117904   \n 4    4_5937            4            5937   \n \n                                              frisian  \\\n 0  Inwoners zijn nodig. Het is ook heel leuk om m...   \n 1  Ik ken zowel punten toe aan \"De gemeente neemt...   \n 2  Gezien de plaatsing van windmolens in IJsselme...   \n 3  afstemming en verdeling over gehele gemeente  ...   \n 4  ik zou graag een groot veld met zonne panelen ...   \n \n                                                dutch  \\\n 0  Inwoners zijn nodig. Het is ook heel leuk om m...   \n 1  Ik ken zowel punten toe aan \"De gemeente neemt...   \n 2  Gezien de plaatsing van windmolens in IJsselme...   \n 3  afstemming en verdeling over gehele gemeente  ...   \n 4  ik zou graag een groot veld met zonne panelen ...   \n \n                                              english  \\\n 0  Residents are needed. It's also a lot of fun t...   \n 1  I assign points to both \"The municipality take...   \n 2  Given the installation of wind turbines in IJs...   \n 3  Coordination and distribution over the entire ...   \n 4  I would like to see a large field of solar pan...   \n \n    Municipality and residents engagement in the energy sector  \\\n 0                                                  1            \n 1                                                  1            \n 2                                                  0            \n 3                                                  1            \n 4                                                  1            \n \n    Energy storage and supplying energy in The Netherlands  \\\n 0                                                  0        \n 1                                                  0        \n 2                                                  1        \n 3                                                  0        \n 4                                                  0        \n \n    Wind and solar energy  Market Determination Dynamics  \\\n 0                      0                              0   \n 1                      0                              1   \n 2                      1                              0   \n 3                      0                              0   \n 4                      0                              0   \n \n    Landscapes and windmills tourism  Hydrogen energy pipeline networks  \n 0                                 0                                  0  \n 1                                 0                                  0  \n 2                                 0                                  0  \n 3                                 0                                  0  \n 4                                 0                                  0  ,\n          id  question_id  participant_id  \\\n 0  2_117958            2          117958   \n 1  2_117111            2          117111   \n 2    5_6411            5            6411   \n 3  1_117904            1          117904   \n 4    4_5937            4            5937   \n \n                                              frisian  \\\n 0  Inwoners zijn nodig. Het is ook heel leuk om m...   \n 1  Ik ken zowel punten toe aan \"De gemeente neemt...   \n 2  Gezien de plaatsing van windmolens in IJsselme...   \n 3  afstemming en verdeling over gehele gemeente  ...   \n 4  ik zou graag een groot veld met zonne panelen ...   \n \n                                                dutch  \\\n 0  Inwoners zijn nodig. Het is ook heel leuk om m...   \n 1  Ik ken zowel punten toe aan \"De gemeente neemt...   \n 2  Gezien de plaatsing van windmolens in IJsselme...   \n 3  afstemming en verdeling over gehele gemeente  ...   \n 4  ik zou graag een groot veld met zonne panelen ...   \n \n                                              english  \\\n 0  Residents are needed. It's also a lot of fun t...   \n 1  I assign points to both \"The municipality take...   \n 2  Given the installation of wind turbines in IJs...   \n 3  Coordination and distribution over the entire ...   \n 4  I would like to see a large field of solar pan...   \n \n    Municipality and residents engagement in the energy sector  \\\n 0                                                  1            \n 1                                                  1            \n 2                                                  0            \n 3                                                  0            \n 4                                                  1            \n \n    Energy storage and supplying energy in The Netherlands  \\\n 0                                                  0        \n 1                                                  0        \n 2                                                  1        \n 3                                                  0        \n 4                                                  0        \n \n    Wind and solar energy  Market Determination Dynamics  \\\n 0                      0                              0   \n 1                      0                              0   \n 2                      0                              0   \n 3                      0                              0   \n 4                      0                              0   \n \n    Landscapes and windmills tourism  Hydrogen energy pipeline networks  \n 0                                 0                                  0  \n 1                                 0                                  0  \n 2                                 0                                  0  \n 3                                 0                                  0  \n 4                                 0                                  0  )"
     },
     "execution_count": 2,
     "metadata": {},
     "output_type": "execute_result"
    }
   ],
   "source": [
    "def choose_predicted_labels(case):\n",
    "    if case == 1:\n",
    "        predicted_labels_df = pd.read_csv('../llm_annotated_data/Results_Zero_shot.csv', delimiter=';')\n",
    "    elif case == 2:\n",
    "        predicted_labels_df = pd.read_csv('../llm_annotated_data/Results_CoT_Zero_shot.csv', delimiter=';')\n",
    "    elif case == 3:\n",
    "        predicted_labels_df = pd.read_csv('../llm_annotated_data/Results_Few_shot.csv', delimiter=';')\n",
    "    elif case == 4:\n",
    "        predicted_labels_df = pd.read_csv('../llm_annotated_data/Results_CoT_Few_shot.csv', delimiter=';')\n",
    "    elif case == 5:\n",
    "        predicted_labels_df = pd.read_csv('../llm_annotated_data/Results_RaR-Few-shot-CoT-Emotion-Prompt_Annotator_1.csv', delimiter=';')\n",
    "    elif case == 6:\n",
    "        predicted_labels_df = pd.read_csv('../llm_annotated_data/Results_RaR-Few-shot-CoT-Emotion-Prompt_Annotator_2.csv', delimiter=';')\n",
    "    elif case == 7:\n",
    "        predicted_labels_df = pd.read_csv('../llm_annotated_data/Results_RaR-Few-shot-CoT-Emotion-Prompt_Annotator_3.csv', delimiter=';')\n",
    "    elif case == 8:\n",
    "        predicted_labels_df = pd.read_csv('../llm_annotated_data/Results_RaR-Few-shot-CoT-Emotion-Prompt_Annotator_4.csv', delimiter=';')\n",
    "    elif case == 9:\n",
    "        predicted_labels_df = pd.read_csv('../llm_annotated_data/Results_RaR-Few-shot-CoT-Emotion-Prompt_Annotator_5.csv', delimiter=';')\n",
    "    elif case == 10:\n",
    "        predicted_labels_df = pd.read_csv('../llm_annotated_data/Results_Fine-tuning.csv', delimiter=';')\n",
    "\n",
    "    return predicted_labels_df\n",
    "\n",
    "def choose_true_labels(case):\n",
    "    if case == 1:\n",
    "        true_labels_df = pd.read_csv(\"../aggregated_labelled_data/Majority_vote_data_few_shot.csv\", delimiter=';')\n",
    "    elif case == 2:\n",
    "        true_labels_df = pd.read_csv('../aggregated_labelled_data/Majority_vote.csv', delimiter=';')\n",
    "    elif case == 3:\n",
    "        true_labels_df = pd.read_csv('../annotated_data/Individual_annotation_few_shot.csv', delimiter=';')\n",
    "    elif case == 4:\n",
    "        true_labels_df = pd.read_csv('../annotated_data/Annotator2_few_shot.csv', delimiter=';')\n",
    "    elif case == 5:\n",
    "        true_labels_df = pd.read_csv('../annotated_data/Annotator3_few_shot.csv', delimiter=';')\n",
    "    elif case == 6:\n",
    "        true_labels_df = pd.read_csv('../annotated_data/Annotator4_few_shot.csv', delimiter=';')\n",
    "    elif case == 7:\n",
    "        true_labels_df = pd.read_csv('../annotated_data/Annotator5_few_shot.csv', delimiter=';')\n",
    "    elif case == 8:\n",
    "        true_labels_df = pd.read_csv('../content/test_set.csv', delimiter=';')\n",
    "    return true_labels_df\n",
    "\n",
    "# Choose the file for the true label and the predicted labels\n",
    "# If the desired file is not in the list you need to add it first\n",
    "option_true_labels = 8\n",
    "option_predicted_labels = 10\n",
    "true_labels_df = choose_true_labels(option_true_labels)\n",
    "predicted_labels_df = choose_predicted_labels(option_predicted_labels)\n",
    "\n",
    "true_labels_df.head(), predicted_labels_df.head()"
   ]
  },
  {
   "cell_type": "markdown",
   "id": "7e57663d",
   "metadata": {},
   "source": [
    "### Merge and Prepare Data"
   ]
  },
  {
   "cell_type": "code",
   "execution_count": 3,
   "id": "d10d2fb0",
   "metadata": {},
   "outputs": [
    {
     "data": {
      "text/plain": "         id  question_id_true  participant_id_true  \\\n0  2_117958                 2               117958   \n1  2_117111                 2               117111   \n2    5_6411                 5                 6411   \n3  1_117904                 1               117904   \n4    4_5937                 4                 5937   \n\n                                        frisian_true  \\\n0  Inwoners zijn nodig. Het is ook heel leuk om m...   \n1  Ik ken zowel punten toe aan \"De gemeente neemt...   \n2  Gezien de plaatsing van windmolens in IJsselme...   \n3  afstemming en verdeling over gehele gemeente  ...   \n4  ik zou graag een groot veld met zonne panelen ...   \n\n                                          dutch_true  \\\n0  Inwoners zijn nodig. Het is ook heel leuk om m...   \n1  Ik ken zowel punten toe aan \"De gemeente neemt...   \n2  Gezien de plaatsing van windmolens in IJsselme...   \n3  afstemming en verdeling over gehele gemeente  ...   \n4  ik zou graag een groot veld met zonne panelen ...   \n\n                                        english_true  \\\n0  Residents are needed. It's also a lot of fun t...   \n1  I assign points to both \"The municipality take...   \n2  Given the installation of wind turbines in IJs...   \n3  Coordination and distribution over the entire ...   \n4  I would like to see a large field of solar pan...   \n\n   Municipality and residents engagement in the energy sector_true  \\\n0                                                  1                 \n1                                                  1                 \n2                                                  0                 \n3                                                  1                 \n4                                                  1                 \n\n   Energy storage and supplying energy in The Netherlands_true  \\\n0                                                  0             \n1                                                  0             \n2                                                  1             \n3                                                  0             \n4                                                  0             \n\n   Wind and solar energy_true  Market Determination Dynamics_true  ...  \\\n0                           0                                   0  ...   \n1                           0                                   1  ...   \n2                           1                                   0  ...   \n3                           0                                   0  ...   \n4                           0                                   0  ...   \n\n   participant_id_pred                                       frisian_pred  \\\n0               117958  Inwoners zijn nodig. Het is ook heel leuk om m...   \n1               117111  Ik ken zowel punten toe aan \"De gemeente neemt...   \n2                 6411  Gezien de plaatsing van windmolens in IJsselme...   \n3               117904  afstemming en verdeling over gehele gemeente  ...   \n4                 5937  ik zou graag een groot veld met zonne panelen ...   \n\n                                          dutch_pred  \\\n0  Inwoners zijn nodig. Het is ook heel leuk om m...   \n1  Ik ken zowel punten toe aan \"De gemeente neemt...   \n2  Gezien de plaatsing van windmolens in IJsselme...   \n3  afstemming en verdeling over gehele gemeente  ...   \n4  ik zou graag een groot veld met zonne panelen ...   \n\n                                        english_pred  \\\n0  Residents are needed. It's also a lot of fun t...   \n1  I assign points to both \"The municipality take...   \n2  Given the installation of wind turbines in IJs...   \n3  Coordination and distribution over the entire ...   \n4  I would like to see a large field of solar pan...   \n\n  Municipality and residents engagement in the energy sector_pred  \\\n0                                                  1                \n1                                                  1                \n2                                                  0                \n3                                                  0                \n4                                                  1                \n\n  Energy storage and supplying energy in The Netherlands_pred  \\\n0                                                  0            \n1                                                  0            \n2                                                  1            \n3                                                  0            \n4                                                  0            \n\n  Wind and solar energy_pred  Market Determination Dynamics_pred  \\\n0                          0                                   0   \n1                          0                                   0   \n2                          0                                   0   \n3                          0                                   0   \n4                          0                                   0   \n\n   Landscapes and windmills tourism_pred  \\\n0                                      0   \n1                                      0   \n2                                      0   \n3                                      0   \n4                                      0   \n\n   Hydrogen energy pipeline networks_pred  \n0                                       0  \n1                                       0  \n2                                       0  \n3                                       0  \n4                                       0  \n\n[5 rows x 23 columns]",
      "text/html": "<div>\n<style scoped>\n    .dataframe tbody tr th:only-of-type {\n        vertical-align: middle;\n    }\n\n    .dataframe tbody tr th {\n        vertical-align: top;\n    }\n\n    .dataframe thead th {\n        text-align: right;\n    }\n</style>\n<table border=\"1\" class=\"dataframe\">\n  <thead>\n    <tr style=\"text-align: right;\">\n      <th></th>\n      <th>id</th>\n      <th>question_id_true</th>\n      <th>participant_id_true</th>\n      <th>frisian_true</th>\n      <th>dutch_true</th>\n      <th>english_true</th>\n      <th>Municipality and residents engagement in the energy sector_true</th>\n      <th>Energy storage and supplying energy in The Netherlands_true</th>\n      <th>Wind and solar energy_true</th>\n      <th>Market Determination Dynamics_true</th>\n      <th>...</th>\n      <th>participant_id_pred</th>\n      <th>frisian_pred</th>\n      <th>dutch_pred</th>\n      <th>english_pred</th>\n      <th>Municipality and residents engagement in the energy sector_pred</th>\n      <th>Energy storage and supplying energy in The Netherlands_pred</th>\n      <th>Wind and solar energy_pred</th>\n      <th>Market Determination Dynamics_pred</th>\n      <th>Landscapes and windmills tourism_pred</th>\n      <th>Hydrogen energy pipeline networks_pred</th>\n    </tr>\n  </thead>\n  <tbody>\n    <tr>\n      <th>0</th>\n      <td>2_117958</td>\n      <td>2</td>\n      <td>117958</td>\n      <td>Inwoners zijn nodig. Het is ook heel leuk om m...</td>\n      <td>Inwoners zijn nodig. Het is ook heel leuk om m...</td>\n      <td>Residents are needed. It's also a lot of fun t...</td>\n      <td>1</td>\n      <td>0</td>\n      <td>0</td>\n      <td>0</td>\n      <td>...</td>\n      <td>117958</td>\n      <td>Inwoners zijn nodig. Het is ook heel leuk om m...</td>\n      <td>Inwoners zijn nodig. Het is ook heel leuk om m...</td>\n      <td>Residents are needed. It's also a lot of fun t...</td>\n      <td>1</td>\n      <td>0</td>\n      <td>0</td>\n      <td>0</td>\n      <td>0</td>\n      <td>0</td>\n    </tr>\n    <tr>\n      <th>1</th>\n      <td>2_117111</td>\n      <td>2</td>\n      <td>117111</td>\n      <td>Ik ken zowel punten toe aan \"De gemeente neemt...</td>\n      <td>Ik ken zowel punten toe aan \"De gemeente neemt...</td>\n      <td>I assign points to both \"The municipality take...</td>\n      <td>1</td>\n      <td>0</td>\n      <td>0</td>\n      <td>1</td>\n      <td>...</td>\n      <td>117111</td>\n      <td>Ik ken zowel punten toe aan \"De gemeente neemt...</td>\n      <td>Ik ken zowel punten toe aan \"De gemeente neemt...</td>\n      <td>I assign points to both \"The municipality take...</td>\n      <td>1</td>\n      <td>0</td>\n      <td>0</td>\n      <td>0</td>\n      <td>0</td>\n      <td>0</td>\n    </tr>\n    <tr>\n      <th>2</th>\n      <td>5_6411</td>\n      <td>5</td>\n      <td>6411</td>\n      <td>Gezien de plaatsing van windmolens in IJsselme...</td>\n      <td>Gezien de plaatsing van windmolens in IJsselme...</td>\n      <td>Given the installation of wind turbines in IJs...</td>\n      <td>0</td>\n      <td>1</td>\n      <td>1</td>\n      <td>0</td>\n      <td>...</td>\n      <td>6411</td>\n      <td>Gezien de plaatsing van windmolens in IJsselme...</td>\n      <td>Gezien de plaatsing van windmolens in IJsselme...</td>\n      <td>Given the installation of wind turbines in IJs...</td>\n      <td>0</td>\n      <td>1</td>\n      <td>0</td>\n      <td>0</td>\n      <td>0</td>\n      <td>0</td>\n    </tr>\n    <tr>\n      <th>3</th>\n      <td>1_117904</td>\n      <td>1</td>\n      <td>117904</td>\n      <td>afstemming en verdeling over gehele gemeente  ...</td>\n      <td>afstemming en verdeling over gehele gemeente  ...</td>\n      <td>Coordination and distribution over the entire ...</td>\n      <td>1</td>\n      <td>0</td>\n      <td>0</td>\n      <td>0</td>\n      <td>...</td>\n      <td>117904</td>\n      <td>afstemming en verdeling over gehele gemeente  ...</td>\n      <td>afstemming en verdeling over gehele gemeente  ...</td>\n      <td>Coordination and distribution over the entire ...</td>\n      <td>0</td>\n      <td>0</td>\n      <td>0</td>\n      <td>0</td>\n      <td>0</td>\n      <td>0</td>\n    </tr>\n    <tr>\n      <th>4</th>\n      <td>4_5937</td>\n      <td>4</td>\n      <td>5937</td>\n      <td>ik zou graag een groot veld met zonne panelen ...</td>\n      <td>ik zou graag een groot veld met zonne panelen ...</td>\n      <td>I would like to see a large field of solar pan...</td>\n      <td>1</td>\n      <td>0</td>\n      <td>0</td>\n      <td>0</td>\n      <td>...</td>\n      <td>5937</td>\n      <td>ik zou graag een groot veld met zonne panelen ...</td>\n      <td>ik zou graag een groot veld met zonne panelen ...</td>\n      <td>I would like to see a large field of solar pan...</td>\n      <td>1</td>\n      <td>0</td>\n      <td>0</td>\n      <td>0</td>\n      <td>0</td>\n      <td>0</td>\n    </tr>\n  </tbody>\n</table>\n<p>5 rows × 23 columns</p>\n</div>"
     },
     "execution_count": 3,
     "metadata": {},
     "output_type": "execute_result"
    }
   ],
   "source": [
    "# Merge the true and predicted labels on the 'id' column\n",
    "merged_df = pd.merge(true_labels_df, predicted_labels_df, on='id', suffixes=('_true', '_pred'))\n",
    "\n",
    "# Extract the label columns\n",
    "label_columns = [\n",
    "    'Municipality and residents engagement in the energy sector',\n",
    "    'Energy storage and supplying energy in The Netherlands',\n",
    "    'Wind and solar energy', \n",
    "    'Market Determination Dynamics',\n",
    "    'Landscapes and windmills tourism', \n",
    "    'Hydrogen energy pipeline networks'\n",
    "]\n",
    "true_labels = merged_df[[col + '_true' for col in label_columns]]\n",
    "predicted_labels = merged_df[[col + '_pred' for col in label_columns]]\n",
    "\n",
    "merged_df.head()"
   ]
  },
  {
   "cell_type": "markdown",
   "id": "d0486589",
   "metadata": {},
   "source": [
    "### Compute F1 Scores"
   ]
  },
  {
   "cell_type": "code",
   "execution_count": 4,
   "id": "ac02c762",
   "metadata": {},
   "outputs": [
    {
     "name": "stdout",
     "output_type": "stream",
     "text": [
      "F1 Scores for each category:\n",
      "Municipality and residents engagement in the energy sector: 0.6458333333333334\n",
      "Energy storage and supplying energy in The Netherlands: 0.9375\n",
      "Wind and solar energy: 0.875\n",
      "Market Determination Dynamics: 0.8333333333333334\n",
      "Landscapes and windmills tourism: 0.9166666666666666\n",
      "Hydrogen energy pipeline networks: 0.9791666666666666\n",
      "Average F1 Score: 0.8645833333333335\n"
     ]
    }
   ],
   "source": [
    "# Calculate F1 scores for each category\n",
    "f1_scores = {}\n",
    "for col in label_columns:\n",
    "    f1 = f1_score(true_labels[col + '_true'], predicted_labels[col + '_pred'], average='micro')\n",
    "    f1_scores[col] = f1\n",
    "\n",
    "# Calculate the average F1 score across all categories\n",
    "average_f1_score = sum(f1_scores.values()) / len(f1_scores)\n",
    "\n",
    "# Print the results\n",
    "print(\"F1 Scores for each category:\")\n",
    "for category, score in f1_scores.items():\n",
    "    print(f\"{category}: {score}\")\n",
    "\n",
    "print(f\"Average F1 Score: {average_f1_score}\")"
   ]
  }
 ],
 "metadata": {},
 "nbformat": 4,
 "nbformat_minor": 5
}
